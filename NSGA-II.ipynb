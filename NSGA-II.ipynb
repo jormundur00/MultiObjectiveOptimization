{
 "cells": [
  {
   "cell_type": "code",
   "execution_count": 1,
   "id": "60f23354-ee55-4e8b-bd39-580573b4b8a2",
   "metadata": {},
   "outputs": [],
   "source": [
    "from matplotlib import pyplot as plt\n",
    "import numpy as np\n",
    "import random\n",
    "import time"
   ]
  },
  {
   "cell_type": "code",
   "execution_count": 2,
   "id": "ae3c95ae-0066-4882-a5fe-1f534ba6d682",
   "metadata": {},
   "outputs": [],
   "source": [
    "class Individual:\n",
    "    def __init__(self, functions, lb, ub):\n",
    "        self.functions = functions\n",
    "        self.lb = lb\n",
    "        self.ub = ub\n",
    "        self.code = np.random.random(len(lb)) * (ub - lb) + lb\n",
    "        self.fvalue = np.empty(len(functions))\n",
    "        self.evaluate()\n",
    "\n",
    "    def evaluate(self):\n",
    "        for i in range(len(self.functions)):\n",
    "            self.fvalue[i] = self.functions[i](self.code)"
   ]
  },
  {
   "cell_type": "code",
   "execution_count": 39,
   "id": "0b665206-1aa3-442d-819c-5c2dfd05af2b",
   "metadata": {},
   "outputs": [],
   "source": [
    "# Function to find Pareto front\n",
    "\n",
    "def find_pareto_front(population):\n",
    "    pop_size = len(population)\n",
    "    fNum = len(population[0].functions)\n",
    "    pareto_front = []\n",
    "    pareto_front_ids = []\n",
    "    \n",
    "    for i in range(pop_size):\n",
    "        is_pareto_optimal = True\n",
    "\n",
    "        for j in range(pop_size):\n",
    "            if i != j:\n",
    "                is_dominated = True\n",
    "                for k in range(fNum):\n",
    "                    is_dominated &= population[i].fvalue[k] > population[j].fvalue[k]\n",
    "                if is_dominated:\n",
    "                    is_pareto_optimal = False\n",
    "                    break\n",
    "        if is_pareto_optimal:\n",
    "            pareto_front.append(population[i])\n",
    "            pareto_front_ids.append(i)\n",
    "\n",
    "    return pareto_front_ids, pareto_front"
   ]
  },
  {
   "cell_type": "code",
   "execution_count": 40,
   "id": "9e1bcac9-6dda-4bce-9d63-6ea19452b1a6",
   "metadata": {},
   "outputs": [],
   "source": [
    "# Tournament selection, picking a random member of the tournaments Pareto front\n",
    "\n",
    "def selection(population, tournament_size):\n",
    "    chosen = random.sample(population, tournament_size)\n",
    "\n",
    "    pareto_front = find_pareto_front(chosen)\n",
    "\n",
    "    return random.choice(pareto_front)"
   ]
  },
  {
   "cell_type": "code",
   "execution_count": 41,
   "id": "00407808-a2ef-42be-a725-301b18d416c5",
   "metadata": {},
   "outputs": [],
   "source": [
    "# Whole arithmetic recombination\n",
    "\n",
    "def crossover(parent1, parent2, child1, child2, alpha = 0.5):\n",
    "    for i in range(len(child1.code)):\n",
    "        child1.code[i] = parent1.code[i] * alpha + parent2.code[i] * (1 - alpha)\n",
    "        child2.code[i] = parent2.code[i] * alpha + parent1.code[i] * (1 - alpha)"
   ]
  },
  {
   "cell_type": "code",
   "execution_count": 42,
   "id": "93851f99-aed8-4128-8e72-7dc3a7b93f49",
   "metadata": {},
   "outputs": [],
   "source": [
    "# Uniform mutation\n",
    "\n",
    "def mutation(individual, mutation_prob):\n",
    "    for i in range(len(individual.code)):\n",
    "        if np.random.random() < mutation_prob:\n",
    "            individual.code[i] = np.random.random() * (individual.ub[i] - individual.lb[i]) + individual.lb[i]"
   ]
  },
  {
   "cell_type": "code",
   "execution_count": 103,
   "id": "e0e2ceea-04d5-4ad2-a11c-934d14b45c7a",
   "metadata": {},
   "outputs": [],
   "source": [
    "# Non-dominated sorting algorithm\n",
    "\n",
    "def non_dominated_sort(population, num_fronts):\n",
    "    removable_population = np.array(population.copy())\n",
    "    pareto_fronts = []\n",
    "\n",
    "    for i in range(num_fronts):\n",
    "        pareto_front_ids, pareto_front = find_pareto_front(removable_population)\n",
    "        if len(pareto_front_ids) == 0:\n",
    "            break\n",
    "        pareto_fronts.append(pareto_front)\n",
    "        removable_population = np.delete(removable_population, pareto_front_ids)\n",
    "    return pareto_fronts"
   ]
  },
  {
   "cell_type": "code",
   "execution_count": 130,
   "id": "fe7bbec9-5a8f-4bff-8aad-70e79d763c3f",
   "metadata": {},
   "outputs": [],
   "source": [
    "def nsga(functions, lb, ub, pop_size, num_generations, num_fronts, tournament_size, elitism_size, crossover_alpha, mutation_prob, showGraph = True):\n",
    "    start_time = time.time()\n",
    "    \n",
    "    # Initializing population\n",
    "    population = [Individual(functions, lb, ub) for _ in range(pop_size)]\n",
    "    new_population = population.copy()\n",
    "\n",
    "    fNum = len(population[0].functions)\n",
    "\n",
    "    pareto_fronts = non_dominated_sort(population, num_fronts)\n",
    "\n",
    "    print(pareto_fronts)"
   ]
  },
  {
   "cell_type": "code",
   "execution_count": 131,
   "id": "156ca5d0-d2a7-49f7-a776-5164d385a889",
   "metadata": {},
   "outputs": [
    {
     "name": "stdout",
     "output_type": "stream",
     "text": [
      "[[<__main__.Individual object at 0x7cb6f4f7b160>, <__main__.Individual object at 0x7cb6f5b416c0>], [<__main__.Individual object at 0x7cb6f4f7a890>, <__main__.Individual object at 0x7cb6f4f79510>], [<__main__.Individual object at 0x7cb6f4f7b880>], [<__main__.Individual object at 0x7cb6f4f7a2f0>], [<__main__.Individual object at 0x7cb6f4f79e10>]]\n"
     ]
    }
   ],
   "source": [
    "# Schaffer function N.1\n",
    "# -A <= X <= A, where A is between 10 and 10e5, higher A's increasing the difficulty of the problem\n",
    "\n",
    "def f1(x):\n",
    "    return x[0]**2\n",
    "\n",
    "def f2(x):\n",
    "    return (x[0]-2)**2\n",
    "\n",
    "A = 10\n",
    "lower_bounds = np.array([-A])\n",
    "upper_bounds = np.array([A])\n",
    "\n",
    "nsga(functions=[f1,f2], lb=lower_bounds, ub=upper_bounds, pop_size=10, num_generations=100, num_fronts = 5, tournament_size=5, elitism_size=50, crossover_alpha=0.3, mutation_prob=0.05)"
   ]
  },
  {
   "cell_type": "code",
   "execution_count": null,
   "id": "7755b1e2-7652-41a9-be40-2260b6242f36",
   "metadata": {},
   "outputs": [],
   "source": []
  }
 ],
 "metadata": {
  "kernelspec": {
   "display_name": "Python 3 (ipykernel)",
   "language": "python",
   "name": "python3"
  },
  "language_info": {
   "codemirror_mode": {
    "name": "ipython",
    "version": 3
   },
   "file_extension": ".py",
   "mimetype": "text/x-python",
   "name": "python",
   "nbconvert_exporter": "python",
   "pygments_lexer": "ipython3",
   "version": "3.10.12"
  }
 },
 "nbformat": 4,
 "nbformat_minor": 5
}
