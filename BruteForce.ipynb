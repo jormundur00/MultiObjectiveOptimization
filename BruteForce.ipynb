{
 "cells": [
  {
   "cell_type": "code",
   "execution_count": 1,
   "id": "6efb6fc8-a5bf-4526-b8cf-c4dd655ac60f",
   "metadata": {},
   "outputs": [],
   "source": [
    "from matplotlib import pyplot as plt\n",
    "import numpy as np"
   ]
  },
  {
   "cell_type": "code",
   "execution_count": 12,
   "id": "d9cb12c0-c5e4-4960-8d1b-a67ce385bf84",
   "metadata": {},
   "outputs": [],
   "source": [
    "# Bihn and Korn function without constraints\n",
    "\n",
    "def f1(x):\n",
    "    return 4*(x[:,0]**2 + x[:,1]**2)\n",
    "\n",
    "def f2(x):\n",
    "    return (x[:,0]-5)**2 + (x[:,1]-5)**2"
   ]
  },
  {
   "cell_type": "code",
   "execution_count": 22,
   "id": "22b1c68e-3173-4bb7-93ff-35de32c4a37e",
   "metadata": {},
   "outputs": [],
   "source": [
    "def BruteForcePareto(functions, lb, ub, varNum = 10):\n",
    "    pareto_front = []\n",
    "    \n",
    "    dim = len(lb)\n",
    "    fNum = len(functions)\n",
    "\n",
    "    # Initialzing function variables as random n-dimensional points with values between lower and upper bounds\n",
    "    x = np.random.random((varNum, dim)) * (ub - lb) + lb\n",
    "    print(x)\n",
    "    print(x.shape)\n",
    "\n",
    "    # Calculating function values of said variables\n",
    "    y = np.empty((varNum, fNum))\n",
    "    for i in range(fNum):\n",
    "        y[:, i] = np.array(functions[i](x))\n",
    "    print(y)\n",
    "    print(y.shape)"
   ]
  },
  {
   "cell_type": "code",
   "execution_count": 23,
   "id": "6da27ce2-bf72-4f22-9c1d-b2bbb2c3bc89",
   "metadata": {},
   "outputs": [
    {
     "name": "stdout",
     "output_type": "stream",
     "text": [
      "[[0.69145731 2.52946478]\n",
      " [0.49908987 4.17697097]\n",
      " [2.11938272 3.94059521]\n",
      " [0.47487552 0.03524795]\n",
      " [2.9027896  3.08500813]]\n",
      "(5, 2)\n",
      "[[27.50522123 24.66708435]\n",
      " [70.7847087  20.93556882]\n",
      " [80.08029499  9.4202944 ]\n",
      " [ 0.9069967  45.12551455]\n",
      " [71.77385052  8.06548532]]\n",
      "(5, 2)\n"
     ]
    }
   ],
   "source": [
    "BruteForcePareto(functions=[f1, f2], lb=np.array([0, 0]), ub=np.array([3, 5]), varNum=5)"
   ]
  },
  {
   "cell_type": "code",
   "execution_count": 17,
   "id": "67d354e6-c215-47ec-8f83-981d64be606f",
   "metadata": {},
   "outputs": [
    {
     "data": {
      "text/plain": [
       "array([40.69271773])"
      ]
     },
     "execution_count": 17,
     "metadata": {},
     "output_type": "execute_result"
    }
   ],
   "source": [
    "f1(np.array([[0.41824066,3.16200161]]))"
   ]
  },
  {
   "cell_type": "code",
   "execution_count": null,
   "id": "5e9b41ee-faf6-497b-beb7-d6c3561d9f99",
   "metadata": {},
   "outputs": [],
   "source": []
  }
 ],
 "metadata": {
  "kernelspec": {
   "display_name": "Python 3 (ipykernel)",
   "language": "python",
   "name": "python3"
  },
  "language_info": {
   "codemirror_mode": {
    "name": "ipython",
    "version": 3
   },
   "file_extension": ".py",
   "mimetype": "text/x-python",
   "name": "python",
   "nbconvert_exporter": "python",
   "pygments_lexer": "ipython3",
   "version": "3.10.12"
  }
 },
 "nbformat": 4,
 "nbformat_minor": 5
}
