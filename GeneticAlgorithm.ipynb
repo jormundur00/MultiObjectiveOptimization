{
 "cells": [
  {
   "cell_type": "code",
   "execution_count": 1,
   "id": "4332d44b-d829-4dd7-a23b-8c1b5408e606",
   "metadata": {},
   "outputs": [],
   "source": [
    "from matplotlib import pyplot as plt\n",
    "import numpy as np"
   ]
  },
  {
   "cell_type": "code",
   "execution_count": 2,
   "id": "abbae7de-0b7f-4cc3-8637-3ca326ab0c06",
   "metadata": {},
   "outputs": [],
   "source": [
    "class Individual:\n",
    "    def __init__(self, functions, lb, ub):\n",
    "        self.functions = functions\n",
    "        self.lb = lb\n",
    "        self.ub = ub\n",
    "        self.code = np.random.random(len(lb)) * (ub - lb) + lb\n",
    "        self.fvalue = np.empty(len(functions))\n",
    "        self.evaluate()\n",
    "\n",
    "    def evaluate(self):\n",
    "        for i in range(len(self.functions)):\n",
    "            self.fvalue[i] = self.functions[i](self.code)"
   ]
  },
  {
   "cell_type": "code",
   "execution_count": 3,
   "id": "e51e0b50-b624-4a40-8d09-e984b08165ed",
   "metadata": {},
   "outputs": [],
   "source": [
    "# Tournament selection\n",
    "\n",
    "def selection(population, tournament_size):\n",
    "    pass"
   ]
  },
  {
   "cell_type": "code",
   "execution_count": 4,
   "id": "bcb70bb5-655f-49c1-86a9-0c08ecb85328",
   "metadata": {},
   "outputs": [],
   "source": [
    "# Whole arithmetic recombination\n",
    "\n",
    "def crossover(parent1, parent2, child1, child2, alpha = 0.5):\n",
    "    for i in range(len(child1.code)):\n",
    "        child1.code[i] = parent1.code[i] * alpha + parent2.code[i] * (1 - alpha)\n",
    "        child2.code[i] = parent2.code[i] * alpha + parent1.code[i] * (1 - alpha)"
   ]
  },
  {
   "cell_type": "code",
   "execution_count": 5,
   "id": "24494b71-64b4-4a23-b7d0-9a99a094d07a",
   "metadata": {},
   "outputs": [],
   "source": [
    "# Uniform mutation\n",
    "\n",
    "def mutation(individual, mutation_prob):\n",
    "    for i in range(len(individual.code)):\n",
    "        if np.random.random() < mutation_prob:\n",
    "            individual.code[i] = np.random.random() * (individual.ub[i] - individual.lb[i]) + individual.lb[i]"
   ]
  },
  {
   "cell_type": "code",
   "execution_count": 6,
   "id": "2173a938-48a0-45cb-a0af-22f918acbb56",
   "metadata": {},
   "outputs": [],
   "source": [
    "def ga(functions, lb, ub, pop_size, num_generations, tournament_size, elitism_size, mutation_prob):\n",
    "    pass"
   ]
  },
  {
   "cell_type": "code",
   "execution_count": 7,
   "id": "4f182792-98f9-486a-81a0-a7b004955074",
   "metadata": {},
   "outputs": [
    {
     "name": "stdout",
     "output_type": "stream",
     "text": [
      "[0.4476499  0.15809734] [ 0.9015408  44.16791284]\n",
      "[1.15566483 2.34385693] [27.31690599 21.83400891]\n",
      "[0.80165737 1.25097713] [14.63230835 30.55393552]\n",
      "[0.80165737 1.25097713] [44.31096384 23.13021307]\n",
      "[1.64325527 1.25097713]\n"
     ]
    }
   ],
   "source": [
    "# Bihn and Korn function without constraints\n",
    "# 0 <= x <= 5\n",
    "# 0 <= y <= 3\n",
    "\n",
    "def f1(x):\n",
    "    return 4*(x[0]**2 + x[1]**2)\n",
    "\n",
    "def f2(x):\n",
    "    return (x[0]-5)**2 + (x[1]-5)**2\n",
    "\n",
    "lower_bounds = np.array([0, 0])\n",
    "upper_bounds = np.array([5, 3])\n",
    "varNum = 1000\n",
    "\n",
    "i1 = Individual([f1, f2], lower_bounds, upper_bounds)\n",
    "i2 = Individual([f1, f2], lower_bounds, upper_bounds)\n",
    "print(i1.code, i1.fvalue)\n",
    "print(i2.code, i2.fvalue)\n",
    "child1 = Individual([f1, f2], lower_bounds, upper_bounds)\n",
    "child2 = Individual([f1, f2], lower_bounds, upper_bounds)\n",
    "crossover(i1, i2, child1, child2)\n",
    "print(child1.code, child1.fvalue)\n",
    "print(child2.code, child2.fvalue)\n",
    "mutation(child1, 0.5)\n",
    "print(child1.code)"
   ]
  },
  {
   "cell_type": "code",
   "execution_count": 8,
   "id": "d42373fa-c3a2-41b0-bc29-be66bbcd6fa0",
   "metadata": {},
   "outputs": [
    {
     "name": "stdout",
     "output_type": "stream",
     "text": [
      "[-1.68597246 -1.63343263] [ 2.05731748 15.64317878  0.14914753]\n",
      "[1.63696586 0.09748154] [ 1.78173476 24.73479046  0.19633263]\n",
      "[-0.0245033  -0.76797555] [ 4.69047738 15.31504445  0.08133281]\n",
      "[-0.0245033  -0.76797555] [ 1.79988716 17.02402241  0.15357554]\n",
      "[-0.0245033  -0.70153385]\n"
     ]
    }
   ],
   "source": [
    "# Viennet function\n",
    "# -3 <= x,y <= 3\n",
    "\n",
    "def f1(x):\n",
    "    return 0.5*(x[0]**2 + x[1]**2) + np.sin(x[0]**2 + x[1]**2)\n",
    "\n",
    "def f2(x):\n",
    "    return ((3*x[0] - 2*x[1] + 4)**2)/8 + ((x[0] - x[1] + 1)**2)/27 + 15\n",
    "\n",
    "def f3(x):\n",
    "    return 1/(x[0]**2 + x[1]**2 + 1) - 1.1*np.exp(-(x[0]**2+x[1]**2))\n",
    "\n",
    "lower_bounds = np.array([-3, -3])\n",
    "upper_bounds = np.array([3, 3])\n",
    "varNum = 1000\n",
    "\n",
    "i1 = Individual([f1, f2, f3], lower_bounds, upper_bounds)\n",
    "i2 = Individual([f1, f2, f3], lower_bounds, upper_bounds)\n",
    "print(i1.code, i1.fvalue)\n",
    "print(i2.code, i2.fvalue)\n",
    "child1 = Individual([f1, f2, f3], lower_bounds, upper_bounds)\n",
    "child2 = Individual([f1, f2, f3], lower_bounds, upper_bounds)\n",
    "crossover(i1, i2, child1, child2)\n",
    "print(child1.code, child1.fvalue)\n",
    "print(child2.code, child2.fvalue)\n",
    "mutation(child1, 0.5)\n",
    "print(child1.code)"
   ]
  },
  {
   "cell_type": "code",
   "execution_count": null,
   "id": "5f8e647e-05a8-4b59-92ec-a1f02bc21ec1",
   "metadata": {},
   "outputs": [],
   "source": []
  }
 ],
 "metadata": {
  "kernelspec": {
   "display_name": "Python 3 (ipykernel)",
   "language": "python",
   "name": "python3"
  },
  "language_info": {
   "codemirror_mode": {
    "name": "ipython",
    "version": 3
   },
   "file_extension": ".py",
   "mimetype": "text/x-python",
   "name": "python",
   "nbconvert_exporter": "python",
   "pygments_lexer": "ipython3",
   "version": "3.10.12"
  }
 },
 "nbformat": 4,
 "nbformat_minor": 5
}
